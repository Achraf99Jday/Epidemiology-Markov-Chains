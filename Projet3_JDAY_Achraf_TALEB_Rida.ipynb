{
 "cells": [
  {
   "cell_type": "markdown",
   "metadata": {},
   "source": [
    "# Chaines de Markov et épidémiologie :\n",
    "## propagation d’une épidémie dans une population"
   ]
  },
  {
   "cell_type": "markdown",
   "metadata": {},
   "source": [
    "### Packages :"
   ]
  },
  {
   "cell_type": "code",
   "execution_count": 114,
   "metadata": {},
   "outputs": [],
   "source": [
    "# Les packages random et matplotlib sont conseillés.\n",
    "import numpy as np\n",
    "import matplotlib.pyplot as plt\n",
    "import random\n",
    "from copy import copy, deepcopy\n",
    "from collections import Counter"
   ]
  },
  {
   "cell_type": "markdown",
   "metadata": {},
   "source": [
    "## 1 Description du modèle"
   ]
  },
  {
   "cell_type": "markdown",
   "metadata": {},
   "source": [
    "#### 1. Créez la matrice de transition A, la matrice contenant les probabilités de transition entre les différents états. Vérifiez que cette matrice est stochastique"
   ]
  },
  {
   "cell_type": "code",
   "execution_count": 11,
   "metadata": {},
   "outputs": [
    {
     "name": "stdout",
     "output_type": "stream",
     "text": [
      "[[0.92 0.08 0.  ]\n",
      " [0.   0.93 0.07]\n",
      " [0.   0.   1.  ]]\n"
     ]
    }
   ],
   "source": [
    "# A la matrice de transition \n",
    "# P(2,2) = 1 ; P(0,1) = 0.08 ; P(0,0) = 0.92 ; P(1,1) = 0.93 ; P(1,2) = 0.07 ; P(0,2) = P(1,0) = P(2,0) = P(2,1) = 0\n",
    "# Avec: P -> la proba ; 0 -> l'etat S ; 1 -> l'etat I ; 2 -> l'etat R\n",
    "A = np.array([[0.92,0.08,0],[0,0.93,0.07],[0,0,1]])\n",
    "print(A)\n"
   ]
  },
  {
   "cell_type": "markdown",
   "metadata": {},
   "source": [
    "0.92 + 0.08 + 0 = 0 + 0.93 + 0.07 = 0 + 0 + 1 = 1 \n",
    "\n",
    "Alors la somme de chaque ligne vaut 1\n",
    "\n",
    "Donc cette matrice est stochastique"
   ]
  },
  {
   "cell_type": "markdown",
   "metadata": {},
   "source": [
    "#### 2. Créez Π0 la distribution de probabilité initiale."
   ]
  },
  {
   "cell_type": "code",
   "execution_count": 12,
   "metadata": {},
   "outputs": [
    {
     "name": "stdout",
     "output_type": "stream",
     "text": [
      "[0.9, 0.1, 0]\n"
     ]
    }
   ],
   "source": [
    "P_s = 0.9 # Un individu a une probabilité de 0.9 d’être sain\n",
    "P_i = 0.1 # 0.1 d’être infecté\n",
    "P_r = 0 # Alors une probabilité de 0 qu'il soit guéri\n",
    "pi0 = [P_s, P_i, P_r] # Distribution de la probabilité initale\n",
    "print(pi0)"
   ]
  },
  {
   "cell_type": "markdown",
   "metadata": {},
   "source": [
    "### Tirage aléatoire des états"
   ]
  },
  {
   "cell_type": "code",
   "execution_count": 68,
   "metadata": {},
   "outputs": [],
   "source": [
    "def initialStatePicker(p, dist_proba_init):\n",
    "    \"\"\"\n",
    "    Fonction implémenter pour l'utilisation en generateRandomSequence, \n",
    "    elle trouve l'état initial choisi a travers de la probabilité aléatoire et la distribution initiale des probabilités.\n",
    "    \n",
    "    *les parametres\n",
    "     p : la probabilité aléatoire ; int.\n",
    "     dist_proba_init : la distribition de la probablité initiale; tab[float] .\n",
    "     \n",
    "    *le return : \n",
    "     Retourne la valeur clé de l'état.\n",
    "    \n",
    "    \"\"\"\n",
    "    \n",
    "    # Nous choisissons un état initial aléatoire en tenant compte de la distribution de la probabilité initiale [0.9, 0.1, 0]\n",
    "    # c'est a dire l'etat initial peut etre soit un S avec une proba de 90% soit un I avec une proba de 10% \n",
    "    # si nous trouvons 0 c'est a dire R avec une proba nul nous recherchons du nouveau un nouveau \n",
    "    # état initial qui est différent de R .\n",
    "    \n",
    "    if p == 0 : # 0%\n",
    "        i = dist_proba_init.index(0) # R \n",
    "    elif (p > 0) and (p <= 10) : # 10%\n",
    "        i = dist_proba_init.index(0.1) # I \n",
    "    elif (p > 10) and (p <= 100) : # 90%\n",
    "        i = dist_proba_init.index(0.9) # S \n",
    "        \n",
    "    return i"
   ]
  },
  {
   "cell_type": "code",
   "execution_count": 141,
   "metadata": {},
   "outputs": [],
   "source": [
    "#precendent -> transition proba / reboucle -> etat suivant\n",
    "\n",
    "\n",
    "\n",
    "def nextStatePicker(pre, p, matrice_transition):\n",
    "    \"\"\"\n",
    "    Fonction implémenter pour l'utilisation en GenerateRandomSequence,\n",
    "    elle trouve l'etat suivant a partir de : l'etat precedent, la probabilité aléatoire et la matrice des transitions.\n",
    "    \n",
    "    *les parametres:\n",
    "     pre : l'etat precedent ; int .\n",
    "     p : la probabilité aléatoire ; int.\n",
    "     matrice_transition : la matrice contenant les probabilités de transition entre les différents états; tab[float][float] .\n",
    "     \n",
    "     *le return:\n",
    "      Retourne la valeur clé de l'etat suivant.\n",
    "      \n",
    "    \"\"\"\n",
    "    matrix = deepcopy(matrice_transition) # copie temporaire\n",
    "    list_AZ = [s for s in matrix[pre]] #nous prenons la liste avec l'indice du precedent \n",
    "    list_SZ = [s for s in matrix[pre] if s != 0] # la liste de la matrice avec l'indice du precedent sans les 0 .\n",
    "    repetitions = Counter(list_SZ) #un dictionnaire où nous mettons les valeurs de la liste avec leurs repetitions \n",
    "    # Exemple : [0.5 0.5 0] -> {0.5 : 2 , 0 : 1}\n",
    "    # Nous applicons ca sur la liste sans les zeros pour des raisons de facilité de calcul et d'optimisation\n",
    "\n",
    "    minimum = min(list_SZ) # Le minimum de la liste sans les zeros \n",
    "                            # afin que nous prenons pas les 0 mais la valeur qui est juste supérieur \n",
    "    \n",
    "    \n",
    "    list_min = [cpt for cpt, n in enumerate(list_AZ) if n == minimum] # Nous mettons toutes ses positions dans une liste \n",
    "\n",
    "    if (p > 0) and (p <= (minimum * 100)) : # Exemple [0.91 0.08 0.01] P devra etre entre 0 et 0.01*100=10%\n",
    "        if repetitions[minimum] > 1 : # Si la valeur existe plus qu'une fois dans la liste\n",
    "            index = list_min[0] # Nous prenons la premiere position vu que c'est la premiere fois que nous voyons la valeur\n",
    "        else :    \n",
    "            index = list_AZ.index(minimum) # Sinon nous prenons directement l'indice de la valeur vu que la fonction index\n",
    "                                            # prend que la premiere position de la valeur dans la liste\n",
    "        return index \n",
    "        \n",
    "    list_SZ.remove(minimum) # Il faut enlever la valeur de la liste sans les 0\n",
    "    minimum2 = min(list_SZ) # pour trouver le nouveau minimum\n",
    "    \n",
    "    \n",
    "    list_min2 = [cpt for cpt, n in enumerate(list_AZ) if n == minimum2]\n",
    "    \n",
    "    if (p > minimum) and (p <= (minimum * 100 + minimum2 * 100)) :\n",
    "        if repetitions[minimum2] > 1 : \n",
    "            if list_min2 == list_min : \n",
    "                index = list_min[1] # maintenant si nous voyons la valeur pour la deuxieme fois nous prenons \n",
    "                                    # sa deuxième position\n",
    "            # Et ainsi de suite pour le reste du code de cette fonction, le reste suit le meme logique .\n",
    "            else :\n",
    "                index = list_min2[0]   \n",
    "        else :\n",
    "            index = list_AZ.index(minimum2)\n",
    "        return index\n",
    "        \n",
    "    list_SZ.remove(minimum2)\n",
    "    reste = list_SZ[0]\n",
    "    \n",
    "    list_reste = [cpt for cpt, n in enumerate(list_AZ) if n == reste]\n",
    "    \n",
    "    if (p > (minimum * 100 + minimum2 * 100)) and (p <= 100) :\n",
    "        if repetitions[reste] > 1 : \n",
    "            if list_reste == list_min2 :\n",
    "                if  list_min2 != list_min : \n",
    "                    index = list_min2[1]\n",
    "                else :\n",
    "                    index = list_min2[2]\n",
    "            elif liste_reste == liste_min :\n",
    "                if liste_min != liste_min2 :\n",
    "                    index = liste_min[1]\n",
    "                else :\n",
    "                    index = liste_min[2]\n",
    "        else :\n",
    "            index = list_AZ.index(reste)\n",
    "    \n",
    "    return index"
   ]
  },
  {
   "cell_type": "code",
   "execution_count": 151,
   "metadata": {},
   "outputs": [
    {
     "name": "stdout",
     "output_type": "stream",
     "text": [
      "SSSSSIIIIIIIIIIIIIIIIIIRRRRRRRRRRRRRRRRRRRRRRRRRRR\n"
     ]
    }
   ],
   "source": [
    "def generateRandomSequence(T, dist_proba_init, matrice_transition):\n",
    "    \"\"\"\n",
    "    génére une séquence aléatoire de taille T en utilisant cette chaîne de Markov.\n",
    "    \n",
    "    *les parametres:\n",
    "     T : la longeur de la chaine générer; int .\n",
    "     dist_proba_init : la distribition de la probablité initiale; tab[float] .\n",
    "     matrice_transition : la matrice contenant les probabilités de transition entre les différents états; tab[float][float] .\n",
    "     \n",
    "    *le return :\n",
    "     Retourne une sequence genere aleatoirement de taille T; str .\n",
    "    \n",
    "    \"\"\"\n",
    "    \n",
    "    #SIR : dict[int:str] \n",
    "    SIR = {0 : \"S\", 1 : \"I\", 2 : \"R\"} \n",
    "    \n",
    "    #random_sequence : str  \n",
    "    random_sequence = \"\" # Initalisation de la sequence vide, nous allons concatener dedans la sequence a retourner .\n",
    "    \n",
    "    # Nous choisissons un état initial aléatoire en tenant compte de la distribution de la probabilité initiale [0.9, 0.1, 0]\n",
    "    # c'est a dire l'etat initial peut etre soit un S avec une proba de 90% soit un I avec une proba de 10% \n",
    "    # si nous trouvons 0 c'est a dire R avec une proba nul nous recherchons du nouveau un nouveau \n",
    "    # état initial qui est différent de R .\n",
    "    proba = np.random.randint(0,100)\n",
    "    while proba == 0 : # 0%\n",
    "        proba = np.random.randint(0,100)\n",
    "    i = initialStatePicker(proba,dist_proba_init)\n",
    "    \n",
    "    # Nous insérons le nom de l'etat initial trouvé dans le dictionnaire DIR a partin de sa clé dans\n",
    "    # le début de la séquence aléatoire. Et nous stockons cet clé dans une variable \"precedent\" pour pouvoir l'accéder après .\n",
    "    random_sequence = random_sequence + SIR.get(i) \n",
    "    precedent = i # Après, \"precedent\" devient figurativement le état_i-1 (état precedent) . \n",
    "    \n",
    "    # La boucle dans laquelle nous trouvons les états aléatoirement en tenant compte des probabilités\n",
    "    # de la matrice des transitions .\n",
    "    for j in range(1,T):\n",
    "        # Quand l'indice [precedent,i] = 0 sa probabilité dans la matrice des transitions et nulle\n",
    "        # c'est a dire la probabilité de i sachant precedent vaut 0, donc la transition qui relie les deux états precedent et i \n",
    "        # est inexistante, ce qui nous ramène a rechercher alèatoirement de nouveau un autre état.\n",
    "        proba = np.random.randint(0,100)\n",
    "        while (proba == 0) : \n",
    "            proba = np.random.randint(0,100)\n",
    "            \n",
    "        i = nextStatePicker(precedent,proba,matrice_transition)\n",
    "   \n",
    "        precedent = i \n",
    "        random_sequence = random_sequence + SIR.get(i) \n",
    "        \n",
    "    return random_sequence\n",
    "\n",
    "# T = 50\n",
    "print(generateRandomSequence(50, pi0, A))\n"
   ]
  },
  {
   "cell_type": "code",
   "execution_count": null,
   "metadata": {},
   "outputs": [],
   "source": []
  },
  {
   "cell_type": "code",
   "execution_count": null,
   "metadata": {},
   "outputs": [],
   "source": []
  }
 ],
 "metadata": {
  "kernelspec": {
   "display_name": "Python 3",
   "language": "python",
   "name": "python3"
  },
  "language_info": {
   "codemirror_mode": {
    "name": "ipython",
    "version": 3
   },
   "file_extension": ".py",
   "mimetype": "text/x-python",
   "name": "python",
   "nbconvert_exporter": "python",
   "pygments_lexer": "ipython3",
   "version": "3.8.5"
  }
 },
 "nbformat": 4,
 "nbformat_minor": 4
}
